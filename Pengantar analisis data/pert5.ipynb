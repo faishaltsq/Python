{
 "cells": [
  {
   "cell_type": "code",
   "execution_count": 48,
   "id": "initial_id",
   "metadata": {
    "collapsed": true,
    "ExecuteTime": {
     "end_time": "2023-11-13T13:32:35.957791600Z",
     "start_time": "2023-11-13T13:32:35.818763600Z"
    }
   },
   "outputs": [
    {
     "name": "stdout",
     "output_type": "stream",
     "text": [
      "   KodeApt   Wilayah St_milik Jum_kamar\n",
      "0    104.0    Bantul        Y         3\n",
      "1    197.0    Sleman        N         3\n",
      "2      NaN    Sleman        N       NaN\n",
      "3    201.0     Yogya       12         1\n",
      "4    203.0     Yogya        Y         3\n",
      "5    207.0     Yogya        Y       NaN\n",
      "6      NaN  KL-Progo      NaN         2\n",
      "7    213.0    Bantul        Y        --\n",
      "8    215.0    Bantul        Y        na\n"
     ]
    }
   ],
   "source": [
    "import pandas as pd\n",
    "import numpy as np\n",
    "\n",
    "df = pd.read_csv('apartemen2.csv')\n",
    "print(df)"
   ]
  },
  {
   "cell_type": "code",
   "execution_count": 49,
   "outputs": [
    {
     "data": {
      "text/plain": "True"
     },
     "execution_count": 49,
     "metadata": {},
     "output_type": "execute_result"
    }
   ],
   "source": [
    "df.isnull().values.any()"
   ],
   "metadata": {
    "collapsed": false,
    "ExecuteTime": {
     "end_time": "2023-11-13T13:32:35.995795300Z",
     "start_time": "2023-11-13T13:32:35.907787600Z"
    }
   },
   "id": "275152cec8e8c1d4"
  },
  {
   "cell_type": "markdown",
   "source": [],
   "metadata": {
    "collapsed": false
   },
   "id": "8e74118cd78971e5"
  },
  {
   "cell_type": "code",
   "execution_count": 50,
   "outputs": [
    {
     "data": {
      "text/plain": "5"
     },
     "execution_count": 50,
     "metadata": {},
     "output_type": "execute_result"
    }
   ],
   "source": [
    "df.isnull().sum().sum()"
   ],
   "metadata": {
    "collapsed": false,
    "ExecuteTime": {
     "end_time": "2023-11-13T13:32:36.102055100Z",
     "start_time": "2023-11-13T13:32:35.977793100Z"
    }
   },
   "id": "d7ece568d958bdf9"
  },
  {
   "cell_type": "code",
   "execution_count": 51,
   "outputs": [
    {
     "data": {
      "text/plain": "0    104.0\n1    197.0\n2      NaN\n3    201.0\n4    203.0\n5    207.0\n6      NaN\n7    213.0\n8    215.0\nName: KodeApt, dtype: float64"
     },
     "execution_count": 51,
     "metadata": {},
     "output_type": "execute_result"
    }
   ],
   "source": [
    "df['KodeApt']"
   ],
   "metadata": {
    "collapsed": false,
    "ExecuteTime": {
     "end_time": "2023-11-13T13:32:36.106055600Z",
     "start_time": "2023-11-13T13:32:36.076800900Z"
    }
   },
   "id": "a0140c48a00b3255"
  },
  {
   "cell_type": "code",
   "execution_count": 52,
   "outputs": [
    {
     "data": {
      "text/plain": "2"
     },
     "execution_count": 52,
     "metadata": {},
     "output_type": "execute_result"
    }
   ],
   "source": [
    "df['KodeApt'].isnull().sum()"
   ],
   "metadata": {
    "collapsed": false,
    "ExecuteTime": {
     "end_time": "2023-11-13T13:32:36.693719900Z",
     "start_time": "2023-11-13T13:32:36.106055600Z"
    }
   },
   "id": "f4f47fd5a0b48862"
  },
  {
   "cell_type": "code",
   "execution_count": 53,
   "outputs": [
    {
     "data": {
      "text/plain": "2"
     },
     "execution_count": 53,
     "metadata": {},
     "output_type": "execute_result"
    }
   ],
   "source": [
    "df['Jum_kamar'].isnull().sum()"
   ],
   "metadata": {
    "collapsed": false,
    "ExecuteTime": {
     "end_time": "2023-11-13T13:32:36.694723Z",
     "start_time": "2023-11-13T13:32:36.671692500Z"
    }
   },
   "id": "9f1b5442a5be68ec"
  },
  {
   "cell_type": "code",
   "execution_count": 54,
   "outputs": [],
   "source": [
    "missing_values = [\"n/a\", \"na\", \"--\"]\n",
    "df = pd.read_csv(\"apartemen2.csv\", na_values = missing_values)"
   ],
   "metadata": {
    "collapsed": false,
    "ExecuteTime": {
     "end_time": "2023-11-13T13:32:36.893626300Z",
     "start_time": "2023-11-13T13:32:36.679719300Z"
    }
   },
   "id": "dcd54d91b519b23b"
  },
  {
   "cell_type": "code",
   "execution_count": 55,
   "outputs": [
    {
     "data": {
      "text/plain": "0      Y\n1      N\n2      N\n3     12\n4      Y\n5      Y\n6    NaN\n7      Y\n8      Y\nName: St_milik, dtype: object"
     },
     "execution_count": 55,
     "metadata": {},
     "output_type": "execute_result"
    }
   ],
   "source": [
    "df['St_milik']"
   ],
   "metadata": {
    "collapsed": false,
    "ExecuteTime": {
     "end_time": "2023-11-13T13:32:37.127651700Z",
     "start_time": "2023-11-13T13:32:36.903686300Z"
    }
   },
   "id": "44127febd69c239d"
  },
  {
   "cell_type": "code",
   "execution_count": 56,
   "outputs": [],
   "source": [
    "count = 0\n",
    "for row in df['St_milik']:\n",
    "    try:\n",
    "        df['St_milik'].isnull()\n",
    "        int(row)\n",
    "        df.loc[count, 'St_milik'] = np.nan\n",
    "    except ValueError:\n",
    "        pass\n",
    "    count+=1"
   ],
   "metadata": {
    "collapsed": false,
    "ExecuteTime": {
     "end_time": "2023-11-13T13:32:37.172455800Z",
     "start_time": "2023-11-13T13:32:37.143653400Z"
    }
   },
   "id": "cdf58a4753d9d2d2"
  },
  {
   "cell_type": "code",
   "execution_count": 57,
   "outputs": [
    {
     "data": {
      "text/plain": "0    False\n1    False\n2    False\n3     True\n4    False\n5    False\n6     True\n7    False\n8    False\nName: St_milik, dtype: bool"
     },
     "execution_count": 57,
     "metadata": {},
     "output_type": "execute_result"
    }
   ],
   "source": [
    "df['St_milik'].isnull()"
   ],
   "metadata": {
    "collapsed": false,
    "ExecuteTime": {
     "end_time": "2023-11-13T13:32:37.194483500Z",
     "start_time": "2023-11-13T13:32:37.163454600Z"
    }
   },
   "id": "686532f8e7f29caf"
  },
  {
   "cell_type": "code",
   "execution_count": 58,
   "outputs": [
    {
     "data": {
      "text/plain": "2"
     },
     "execution_count": 58,
     "metadata": {},
     "output_type": "execute_result"
    }
   ],
   "source": [
    "df['St_milik'].isnull().sum()"
   ],
   "metadata": {
    "collapsed": false,
    "ExecuteTime": {
     "end_time": "2023-11-13T13:32:37.442036900Z",
     "start_time": "2023-11-13T13:32:37.200485600Z"
    }
   },
   "id": "90f930cfed276a3a"
  },
  {
   "cell_type": "code",
   "execution_count": 59,
   "outputs": [
    {
     "name": "stdout",
     "output_type": "stream",
     "text": [
      "0    104.0\n",
      "1    197.0\n",
      "2    837.0\n",
      "3    201.0\n",
      "4    203.0\n",
      "5    207.0\n",
      "6    837.0\n",
      "7    213.0\n",
      "8    215.0\n",
      "Name: KodeApt, dtype: float64\n"
     ]
    }
   ],
   "source": [
    "df['KodeApt'].fillna(837,inplace = True)\n",
    "print(df.KodeApt)"
   ],
   "metadata": {
    "collapsed": false,
    "ExecuteTime": {
     "end_time": "2023-11-13T13:32:37.444037300Z",
     "start_time": "2023-11-13T13:32:37.390032200Z"
    }
   },
   "id": "200d8e65c9829182"
  },
  {
   "cell_type": "code",
   "execution_count": null,
   "outputs": [],
   "source": [
    "df.loc[2,'KodeApt'] = 8837\n",
    "print(df.KodeApt)"
   ],
   "metadata": {
    "collapsed": false
   },
   "id": "95328417fd5e8ddd"
  }
 ],
 "metadata": {
  "kernelspec": {
   "display_name": "Python 3",
   "language": "python",
   "name": "python3"
  },
  "language_info": {
   "codemirror_mode": {
    "name": "ipython",
    "version": 2
   },
   "file_extension": ".py",
   "mimetype": "text/x-python",
   "name": "python",
   "nbconvert_exporter": "python",
   "pygments_lexer": "ipython2",
   "version": "2.7.6"
  }
 },
 "nbformat": 4,
 "nbformat_minor": 5
}
