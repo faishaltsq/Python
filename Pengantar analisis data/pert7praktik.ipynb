{
 "cells": [
  {
   "cell_type": "code",
   "execution_count": 1,
   "id": "initial_id",
   "metadata": {
    "collapsed": true,
    "ExecuteTime": {
     "end_time": "2023-11-15T12:23:38.350326600Z",
     "start_time": "2023-11-15T12:23:28.584929900Z"
    }
   },
   "outputs": [],
   "source": [
    "import  numpy as np\n",
    "import pandas as pd\n"
   ]
  },
  {
   "cell_type": "code",
   "execution_count": 2,
   "outputs": [
    {
     "name": "stdout",
     "output_type": "stream",
     "text": [
      "        Kota  Umur  MasaKerja   Gaji Bonus\n",
      "0   Surabaya  27.0          9  51000   Yes\n",
      "1    Jakarta  29.0          9  48000   Yes\n",
      "2   Surabaya  30.0          5  52000    No\n",
      "3    Jakarta  25.0          5  66000    No\n",
      "4     Kediri  48.0         10  68000   Yes\n",
      "5     Kediri  33.0          8  51000    No\n",
      "6     Malang  33.0          9  69000    No\n",
      "7    Jakarta  40.0         10  79000   Yes\n",
      "8   Surabaya  38.0          8  68000   Yes\n",
      "9     Malang  35.0          8  38000    No\n",
      "10    Kediri  28.0          8  56000    No\n",
      "11    Malang  35.0          8  72000    No\n",
      "12   Jakarta  36.5         12  79000   Yes\n",
      "13  Surabaya  31.0          8  85000    No\n",
      "14    Malang  37.0          6  49000    No\n",
      "15  Surabaya  40.0         11  69000   Yes\n",
      "16    Kediri  50.0          8  68000   Yes\n",
      "17  Surabaya  31.0          8  68000    No\n",
      "18  Surabaya  36.5          4  68000   Yes\n",
      "19    Kediri  41.0          6  75000   Yes\n",
      "20    Kediri  29.0          8  70000    No\n"
     ]
    }
   ],
   "source": [
    "dataset = pd.read_csv('datapegawai3.csv')\n",
    "print(dataset)"
   ],
   "metadata": {
    "collapsed": false,
    "ExecuteTime": {
     "end_time": "2023-11-15T12:23:38.644116700Z",
     "start_time": "2023-11-15T12:23:38.351327300Z"
    }
   },
   "id": "98eb5bf41aa8b821"
  },
  {
   "cell_type": "code",
   "execution_count": 3,
   "outputs": [
    {
     "data": {
      "text/plain": "            Umur  MasaKerja          Gaji\ncount  21.000000  21.000000     21.000000\nmean   34.904762   8.000000  64238.095238\nstd     6.508877   1.974842  12140.447940\nmin    25.000000   4.000000  38000.000000\n25%    30.000000   8.000000  52000.000000\n50%    35.000000   8.000000  68000.000000\n75%    38.000000   9.000000  70000.000000\nmax    50.000000  12.000000  85000.000000",
      "text/html": "<div>\n<style scoped>\n    .dataframe tbody tr th:only-of-type {\n        vertical-align: middle;\n    }\n\n    .dataframe tbody tr th {\n        vertical-align: top;\n    }\n\n    .dataframe thead th {\n        text-align: right;\n    }\n</style>\n<table border=\"1\" class=\"dataframe\">\n  <thead>\n    <tr style=\"text-align: right;\">\n      <th></th>\n      <th>Umur</th>\n      <th>MasaKerja</th>\n      <th>Gaji</th>\n    </tr>\n  </thead>\n  <tbody>\n    <tr>\n      <th>count</th>\n      <td>21.000000</td>\n      <td>21.000000</td>\n      <td>21.000000</td>\n    </tr>\n    <tr>\n      <th>mean</th>\n      <td>34.904762</td>\n      <td>8.000000</td>\n      <td>64238.095238</td>\n    </tr>\n    <tr>\n      <th>std</th>\n      <td>6.508877</td>\n      <td>1.974842</td>\n      <td>12140.447940</td>\n    </tr>\n    <tr>\n      <th>min</th>\n      <td>25.000000</td>\n      <td>4.000000</td>\n      <td>38000.000000</td>\n    </tr>\n    <tr>\n      <th>25%</th>\n      <td>30.000000</td>\n      <td>8.000000</td>\n      <td>52000.000000</td>\n    </tr>\n    <tr>\n      <th>50%</th>\n      <td>35.000000</td>\n      <td>8.000000</td>\n      <td>68000.000000</td>\n    </tr>\n    <tr>\n      <th>75%</th>\n      <td>38.000000</td>\n      <td>9.000000</td>\n      <td>70000.000000</td>\n    </tr>\n    <tr>\n      <th>max</th>\n      <td>50.000000</td>\n      <td>12.000000</td>\n      <td>85000.000000</td>\n    </tr>\n  </tbody>\n</table>\n</div>"
     },
     "execution_count": 3,
     "metadata": {},
     "output_type": "execute_result"
    }
   ],
   "source": [
    "dataset.describe()\n"
   ],
   "metadata": {
    "collapsed": false,
    "ExecuteTime": {
     "end_time": "2023-11-15T12:23:38.993713400Z",
     "start_time": "2023-11-15T12:23:38.560110300Z"
    }
   },
   "id": "a765f79f80b551e7"
  },
  {
   "cell_type": "code",
   "execution_count": 4,
   "outputs": [],
   "source": [
    "x = dataset.iloc[:,:4].values\n",
    "y = dataset.iloc[:, -1].values"
   ],
   "metadata": {
    "collapsed": false,
    "ExecuteTime": {
     "end_time": "2023-11-15T12:23:39.711731400Z",
     "start_time": "2023-11-15T12:23:38.971695700Z"
    }
   },
   "id": "b1b8dfd4eaaa50f1"
  },
  {
   "cell_type": "code",
   "execution_count": 5,
   "outputs": [
    {
     "data": {
      "text/plain": "array(['Surabaya', 'Jakarta', 'Kediri', 'Malang'], dtype=object)"
     },
     "execution_count": 5,
     "metadata": {},
     "output_type": "execute_result"
    }
   ],
   "source": [
    "pd.unique(dataset['Kota'])"
   ],
   "metadata": {
    "collapsed": false,
    "ExecuteTime": {
     "end_time": "2023-11-15T12:23:39.914746700Z",
     "start_time": "2023-11-15T12:23:39.461183Z"
    }
   },
   "id": "560aca6cc442fa6e"
  },
  {
   "cell_type": "code",
   "execution_count": 6,
   "outputs": [],
   "source": [
    "from sklearn.compose import ColumnTransformer\n",
    "from sklearn.preprocessing import OneHotEncoder"
   ],
   "metadata": {
    "collapsed": false,
    "ExecuteTime": {
     "end_time": "2023-11-15T12:23:50.858345800Z",
     "start_time": "2023-11-15T12:23:39.703730400Z"
    }
   },
   "id": "f344e09546e470cc"
  },
  {
   "cell_type": "code",
   "execution_count": 7,
   "outputs": [],
   "source": [
    "coltras = ColumnTransformer(transformers=[('encoder', OneHotEncoder(), [0])], remainder='passthrough')\n",
    "x = np.array(coltras.fit_transform(x))"
   ],
   "metadata": {
    "collapsed": false,
    "ExecuteTime": {
     "end_time": "2023-11-15T12:23:50.933383200Z",
     "start_time": "2023-11-15T12:23:50.879346900Z"
    }
   },
   "id": "29cd902ed03b567d"
  },
  {
   "cell_type": "code",
   "execution_count": 8,
   "outputs": [],
   "source": [
    "from sklearn.preprocessing import LabelEncoder\n",
    "labelenc = LabelEncoder()\n",
    "y = labelenc.fit_transform(y)"
   ],
   "metadata": {
    "collapsed": false,
    "ExecuteTime": {
     "end_time": "2023-11-15T12:23:51.143960900Z",
     "start_time": "2023-11-15T12:23:50.943384500Z"
    }
   },
   "id": "fa975098b84fd1ba"
  },
  {
   "cell_type": "code",
   "execution_count": 9,
   "outputs": [],
   "source": [
    "from sklearn.model_selection import train_test_split\n",
    "xtrain, xtest, ytrain, ytest = train_test_split(x,y, test_size=0.25, random_state=0)"
   ],
   "metadata": {
    "collapsed": false,
    "ExecuteTime": {
     "end_time": "2023-11-15T12:23:52.170904400Z",
     "start_time": "2023-11-15T12:23:51.161963Z"
    }
   },
   "id": "2428fcdf731c7d41"
  },
  {
   "cell_type": "code",
   "execution_count": 10,
   "outputs": [],
   "source": [
    "# from sklearn.preprocessing import StandardScaler\n",
    "# sc = StandardScaler()\n",
    "# xtest[:,4:] = sc.fit_transform(xtest[:,4:])\n",
    "# xtrain[:,4:] = sc.fit_transform(xtrain[:,4:])\n",
    "\n"
   ],
   "metadata": {
    "collapsed": false,
    "ExecuteTime": {
     "end_time": "2023-11-15T12:23:52.193274800Z",
     "start_time": "2023-11-15T12:23:52.177906900Z"
    }
   },
   "id": "63652a41b0c7c1d0"
  },
  {
   "cell_type": "code",
   "execution_count": 11,
   "outputs": [],
   "source": [
    "# print(xtrain)"
   ],
   "metadata": {
    "collapsed": false,
    "ExecuteTime": {
     "end_time": "2023-11-15T12:23:52.268793100Z",
     "start_time": "2023-11-15T12:23:52.194276500Z"
    }
   },
   "id": "b05acf9c95263911"
  },
  {
   "cell_type": "code",
   "execution_count": 12,
   "outputs": [],
   "source": [
    "# print(xtest)"
   ],
   "metadata": {
    "collapsed": false,
    "ExecuteTime": {
     "end_time": "2023-11-15T12:23:52.385866100Z",
     "start_time": "2023-11-15T12:23:52.271328200Z"
    }
   },
   "id": "f1d7c4ce2f8b52c8"
  },
  {
   "cell_type": "code",
   "execution_count": 13,
   "outputs": [],
   "source": [
    "from sklearn.preprocessing import Normalizer\n",
    "norm = Normalizer()\n",
    "xtest[:,4:] = norm.fit_transform(xtest[:,4:])\n",
    "xtrain[:,4:] = norm.fit_transform(xtrain[:,4:])\n",
    "\n"
   ],
   "metadata": {
    "collapsed": false,
    "ExecuteTime": {
     "end_time": "2023-11-15T12:23:52.613436600Z",
     "start_time": "2023-11-15T12:23:52.433870600Z"
    }
   },
   "id": "3278215e6ab03cb3"
  },
  {
   "cell_type": "code",
   "execution_count": 14,
   "outputs": [
    {
     "name": "stdout",
     "output_type": "stream",
     "text": [
      "[[0.0 0.0 1.0 0.0 0.0007551018198838189 0.0001224489437649436\n",
      "  0.9999997074137061]\n",
      " [0.0 0.0 0.0 1.0 0.0005367646276283676 5.882352083598549e-05\n",
      "  0.9999998542117533]\n",
      " [0.0 0.0 1.0 0.0 0.0004782608107997149 0.00013043476658174043\n",
      "  0.9999998771266767]\n",
      " [0.0 1.0 0.0 0.0 0.0005466665832332043 7.999998779022501e-05\n",
      "  0.9999998473778127]\n",
      " [0.0 1.0 0.0 0.0 0.0007058821694484738 0.0001470587853017654\n",
      "  0.9999997400520045]\n",
      " [0.0 0.0 0.0 1.0 0.0005769229782445065 9.615382970741775e-05\n",
      "  0.9999998289571446]\n",
      " [0.0 1.0 0.0 0.0 0.0006470586801117695 0.00015686271033012593\n",
      "  0.9999997783545528]\n",
      " [0.0 1.0 0.0 0.0 0.0007352939137874856 0.00011764702620599769\n",
      "  0.9999997227509804]\n",
      " [0.0 0.0 1.0 0.0 0.0009210522204861333 0.00021052622182540188\n",
      "  0.999999553670659]\n",
      " [1.0 0.0 0.0 0.0 0.0005063290449640027 0.00012658226124100068\n",
      "  0.9999998638039054]\n",
      " [0.0 0.0 0.0 1.0 0.00045588230241356685 0.00011764704578414628\n",
      "  0.9999998891652434]\n",
      " [1.0 0.0 0.0 0.0 0.0003787878505266192 7.575757010532384e-05\n",
      "  0.9999999253902747]\n",
      " [0.0 0.0 0.0 1.0 0.0005294116822715438 0.00017647056075718127\n",
      "  0.9999998442906939]\n",
      " [0.0 0.0 0.0 1.0 0.0005797100401511353 0.00015942026104156221\n",
      "  0.9999998192607085]\n",
      " [1.0 0.0 0.0 0.0 0.00046202526181182886 0.00015189871621210812\n",
      "  0.9999998817297118]]\n"
     ]
    }
   ],
   "source": [
    "print(xtrain)"
   ],
   "metadata": {
    "collapsed": false,
    "ExecuteTime": {
     "end_time": "2023-11-15T12:23:52.830013100Z",
     "start_time": "2023-11-15T12:23:52.659439500Z"
    }
   },
   "id": "a12ec511a47431da"
  },
  {
   "cell_type": "code",
   "execution_count": 15,
   "outputs": [
    {
     "name": "stdout",
     "output_type": "stream",
     "text": [
      "[[0.0 0.0 0.0 1.0 0.0005588234382887461 0.00011764703963973603\n",
      "  0.9999998369377562]\n",
      " [0.0 0.0 0.0 1.0 0.00036470585648280346 9.411764038265896e-05\n",
      "  0.9999999290657514]\n",
      " [0.0 1.0 0.0 0.0 0.0004142856760277021 0.00011428570373177989\n",
      "  0.9999999076530741]\n",
      " [1.0 0.0 0.0 0.0 0.0006041665457809245 0.0001874999624837352\n",
      "  0.9999997999132544]\n",
      " [0.0 0.0 1.0 0.0 0.00048611105067543353 0.00011111109729724195\n",
      "  0.9999998756751776]\n",
      " [0.0 1.0 0.0 0.0 0.0004999999323979728 0.00014285712354227797\n",
      "  0.9999998647959457]]\n"
     ]
    }
   ],
   "source": [
    "print(xtest)"
   ],
   "metadata": {
    "collapsed": false,
    "ExecuteTime": {
     "end_time": "2023-11-15T12:23:52.960775Z",
     "start_time": "2023-11-15T12:23:52.857014700Z"
    }
   },
   "id": "a5c50f4bbf2cf3e6"
  },
  {
   "cell_type": "code",
   "execution_count": 16,
   "outputs": [],
   "source": [
    "# from sklearn.preprocessing import StandardScaler\n",
    "# sc = StandardScaler()\n",
    "# xtest[:,4:] = sc.fit_transform(xtest[:,4:])\n",
    "# xtrain[:,4:] = sc.fit_transform(xtrain[:,4:])\n",
    "# \n"
   ],
   "metadata": {
    "collapsed": false,
    "ExecuteTime": {
     "end_time": "2023-11-15T12:23:53.167455900Z",
     "start_time": "2023-11-15T12:23:52.973774900Z"
    }
   },
   "id": "270f4ac88d9ff452"
  },
  {
   "cell_type": "code",
   "execution_count": 17,
   "outputs": [],
   "source": [
    "# print(xtrain)"
   ],
   "metadata": {
    "collapsed": false,
    "ExecuteTime": {
     "end_time": "2023-11-15T12:23:53.242647Z",
     "start_time": "2023-11-15T12:23:53.182455600Z"
    }
   },
   "id": "b7d645936ee7c9ef"
  },
  {
   "cell_type": "code",
   "execution_count": 18,
   "outputs": [],
   "source": [
    "# print(xtest)"
   ],
   "metadata": {
    "collapsed": false,
    "ExecuteTime": {
     "end_time": "2023-11-15T12:23:53.330276300Z",
     "start_time": "2023-11-15T12:23:53.246646600Z"
    }
   },
   "id": "7135ebad00add5a9"
  },
  {
   "cell_type": "code",
   "execution_count": 19,
   "outputs": [],
   "source": [
    "dataset = pd.DataFrame(xtest)\n",
    "dataset.to_csv('normalize.csv', index=False)"
   ],
   "metadata": {
    "collapsed": false,
    "ExecuteTime": {
     "end_time": "2023-11-15T12:23:53.448753600Z",
     "start_time": "2023-11-15T12:23:53.340276800Z"
    }
   },
   "id": "137d6482ecad09b"
  }
 ],
 "metadata": {
  "kernelspec": {
   "display_name": "Python 3",
   "language": "python",
   "name": "python3"
  },
  "language_info": {
   "codemirror_mode": {
    "name": "ipython",
    "version": 2
   },
   "file_extension": ".py",
   "mimetype": "text/x-python",
   "name": "python",
   "nbconvert_exporter": "python",
   "pygments_lexer": "ipython2",
   "version": "2.7.6"
  }
 },
 "nbformat": 4,
 "nbformat_minor": 5
}
