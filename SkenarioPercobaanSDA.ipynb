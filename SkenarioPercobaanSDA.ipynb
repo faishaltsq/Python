{
 "cells": [
  {
   "cell_type": "code",
   "execution_count": 1,
   "id": "e1b877a6-dd67-43e8-9fa3-6ef97ebc20b9",
   "metadata": {},
   "outputs": [
    {
     "name": "stdout",
     "output_type": "stream",
     "text": [
      "\n",
      "====================================\n",
      "Sistem informasi stok dan transaksi \n",
      "====================================\n",
      "          Menu Utama:\n",
      "    1. Kelola stok barang\n",
      "    2. Kelola Transaksi Konsumen\n",
      "    3. Keluar\n",
      "====================================\n",
      "    \n"
     ]
    },
    {
     "name": "stdout",
     "output_type": "stream",
     "text": [
      "Pilih menu (1/2/3):  1\n"
     ]
    },
    {
     "name": "stdout",
     "output_type": "stream",
     "text": [
      "\n",
      "====================================            \n",
      "    Sub Menu Kelola Stok Barang:\n",
      "====================================\n",
      "    1. Input Data Stok Barang\n",
      "    2. Restock Barang\n",
      "    3. Lihat Stok Barang\n",
      "    4. Kembali ke Menu Utama\n",
      "====================================\n",
      "\n"
     ]
    },
    {
     "name": "stdout",
     "output_type": "stream",
     "text": [
      "Pilih menu (1/2/3/4):  1\n"
     ]
    },
    {
     "name": "stdout",
     "output_type": "stream",
     "text": [
      "Input Data Stok Barang\n"
     ]
    },
    {
     "name": "stdout",
     "output_type": "stream",
     "text": [
      "No. SKU (4 digit angka):  1111\n",
      "Nama Barang:  roti\n",
      "Harga Satuan:  3000\n",
      "Jumlah Stok:  20\n"
     ]
    },
    {
     "name": "stdout",
     "output_type": "stream",
     "text": [
      "Data Stok Barang berhasil disimpan ke dalam program.\n"
     ]
    },
    {
     "name": "stdout",
     "output_type": "stream",
     "text": [
      "Apakah ingin input data stok barang lagi? (Y/N):  y\n",
      "No. SKU (4 digit angka):  2222\n",
      "Nama Barang:  biskuit\n",
      "Harga Satuan:  2500\n",
      "Jumlah Stok:  20\n"
     ]
    },
    {
     "name": "stdout",
     "output_type": "stream",
     "text": [
      "Data Stok Barang berhasil disimpan ke dalam program.\n"
     ]
    },
    {
     "name": "stdout",
     "output_type": "stream",
     "text": [
      "Apakah ingin input data stok barang lagi? (Y/N):  y\n",
      "No. SKU (4 digit angka):  3333\n",
      "Nama Barang:  permen\n",
      "Harga Satuan:  500\n",
      "Jumlah Stok:  20\n"
     ]
    },
    {
     "name": "stdout",
     "output_type": "stream",
     "text": [
      "Data Stok Barang berhasil disimpan ke dalam program.\n"
     ]
    },
    {
     "name": "stdout",
     "output_type": "stream",
     "text": [
      "Apakah ingin input data stok barang lagi? (Y/N):  y\n",
      "No. SKU (4 digit angka):  4444\n",
      "Nama Barang:  kerupuk\n",
      "Harga Satuan:  3500\n",
      "Jumlah Stok:  20\n"
     ]
    },
    {
     "name": "stdout",
     "output_type": "stream",
     "text": [
      "Data Stok Barang berhasil disimpan ke dalam program.\n"
     ]
    },
    {
     "name": "stdout",
     "output_type": "stream",
     "text": [
      "Apakah ingin input data stok barang lagi? (Y/N):  y\n",
      "No. SKU (4 digit angka):  5555\n",
      "Nama Barang:  kecap\n",
      "Harga Satuan:  4000\n",
      "Jumlah Stok:  20\n"
     ]
    },
    {
     "name": "stdout",
     "output_type": "stream",
     "text": [
      "Data Stok Barang berhasil disimpan ke dalam program.\n"
     ]
    },
    {
     "name": "stdout",
     "output_type": "stream",
     "text": [
      "Apakah ingin input data stok barang lagi? (Y/N):  y\n",
      "No. SKU (4 digit angka):  2222\n"
     ]
    },
    {
     "name": "stdout",
     "output_type": "stream",
     "text": [
      "No. SKU sudah terdaftar.\n"
     ]
    },
    {
     "name": "stdout",
     "output_type": "stream",
     "text": [
      "No. SKU (4 digit angka):  6\n"
     ]
    },
    {
     "name": "stdout",
     "output_type": "stream",
     "text": [
      "No. SKU harus terdiri dari 4 digit angka.\n"
     ]
    },
    {
     "name": "stdout",
     "output_type": "stream",
     "text": [
      "No. SKU (4 digit angka):  6666\n",
      "Nama Barang:  saos\n",
      "Harga Satuan:  2000\n",
      "Jumlah Stok:  20\n"
     ]
    },
    {
     "name": "stdout",
     "output_type": "stream",
     "text": [
      "Data Stok Barang berhasil disimpan ke dalam program.\n"
     ]
    },
    {
     "name": "stdout",
     "output_type": "stream",
     "text": [
      "Apakah ingin input data stok barang lagi? (Y/N):  n\n"
     ]
    },
    {
     "name": "stdout",
     "output_type": "stream",
     "text": [
      "\n",
      "====================================\n",
      "Sistem informasi stok dan transaksi \n",
      "====================================\n",
      "          Menu Utama:\n",
      "    1. Kelola stok barang\n",
      "    2. Kelola Transaksi Konsumen\n",
      "    3. Keluar\n",
      "====================================\n",
      "    \n"
     ]
    },
    {
     "name": "stdout",
     "output_type": "stream",
     "text": [
      "Pilih menu (1/2/3):  1\n"
     ]
    },
    {
     "name": "stdout",
     "output_type": "stream",
     "text": [
      "\n",
      "====================================            \n",
      "    Sub Menu Kelola Stok Barang:\n",
      "====================================\n",
      "    1. Input Data Stok Barang\n",
      "    2. Restock Barang\n",
      "    3. Lihat Stok Barang\n",
      "    4. Kembali ke Menu Utama\n",
      "====================================\n",
      "\n"
     ]
    },
    {
     "name": "stdout",
     "output_type": "stream",
     "text": [
      "Pilih menu (1/2/3/4):  3\n"
     ]
    },
    {
     "name": "stdout",
     "output_type": "stream",
     "text": [
      "Lihat Stok Barang\n",
      "1111\n",
      "2222\n",
      "3333\n",
      "4444\n",
      "5555\n",
      "6666\n"
     ]
    },
    {
     "name": "stdout",
     "output_type": "stream",
     "text": [
      "No. SKU (4 digit angka):  3333\n"
     ]
    },
    {
     "name": "stdout",
     "output_type": "stream",
     "text": [
      "No. SKU: 3333\n",
      "Nama Barang: permen\n",
      "Harga Satuan: 500.0\n",
      "Jumlah Stok: 20\n"
     ]
    },
    {
     "name": "stdout",
     "output_type": "stream",
     "text": [
      "Apakah ingin melihat stok barang lagi? (Y/N):  n\n"
     ]
    },
    {
     "name": "stdout",
     "output_type": "stream",
     "text": [
      "\n",
      "====================================\n",
      "Sistem informasi stok dan transaksi \n",
      "====================================\n",
      "          Menu Utama:\n",
      "    1. Kelola stok barang\n",
      "    2. Kelola Transaksi Konsumen\n",
      "    3. Keluar\n",
      "====================================\n",
      "    \n"
     ]
    },
    {
     "name": "stdout",
     "output_type": "stream",
     "text": [
      "Pilih menu (1/2/3):  1\n"
     ]
    },
    {
     "name": "stdout",
     "output_type": "stream",
     "text": [
      "\n",
      "====================================            \n",
      "    Sub Menu Kelola Stok Barang:\n",
      "====================================\n",
      "    1. Input Data Stok Barang\n",
      "    2. Restock Barang\n",
      "    3. Lihat Stok Barang\n",
      "    4. Kembali ke Menu Utama\n",
      "====================================\n",
      "\n"
     ]
    },
    {
     "name": "stdout",
     "output_type": "stream",
     "text": [
      "Pilih menu (1/2/3/4):  2\n"
     ]
    },
    {
     "name": "stdout",
     "output_type": "stream",
     "text": [
      "Restock Barang\n",
      "No. SKU yang sudah tersimpan di dalam program:\n",
      "1111\n",
      "2222\n",
      "3333\n",
      "4444\n",
      "5555\n",
      "6666\n"
     ]
    },
    {
     "name": "stdout",
     "output_type": "stream",
     "text": [
      "No. SKU (4 digit angka):  3333\n",
      "Jumlah Stok Baru:  10\n"
     ]
    },
    {
     "name": "stdout",
     "output_type": "stream",
     "text": [
      "Stok barang dengan No. SKU 3333 telah diperbarui.\n"
     ]
    },
    {
     "name": "stdout",
     "output_type": "stream",
     "text": [
      "Apakah ingin restock barang lagi? (Y/N):  n\n"
     ]
    },
    {
     "name": "stdout",
     "output_type": "stream",
     "text": [
      "\n",
      "====================================\n",
      "Sistem informasi stok dan transaksi \n",
      "====================================\n",
      "          Menu Utama:\n",
      "    1. Kelola stok barang\n",
      "    2. Kelola Transaksi Konsumen\n",
      "    3. Keluar\n",
      "====================================\n",
      "    \n"
     ]
    },
    {
     "name": "stdout",
     "output_type": "stream",
     "text": [
      "Pilih menu (1/2/3):  1\n"
     ]
    },
    {
     "name": "stdout",
     "output_type": "stream",
     "text": [
      "\n",
      "====================================            \n",
      "    Sub Menu Kelola Stok Barang:\n",
      "====================================\n",
      "    1. Input Data Stok Barang\n",
      "    2. Restock Barang\n",
      "    3. Lihat Stok Barang\n",
      "    4. Kembali ke Menu Utama\n",
      "====================================\n",
      "\n"
     ]
    },
    {
     "name": "stdout",
     "output_type": "stream",
     "text": [
      "Pilih menu (1/2/3/4):  3\n"
     ]
    },
    {
     "name": "stdout",
     "output_type": "stream",
     "text": [
      "Lihat Stok Barang\n",
      "1111\n",
      "2222\n",
      "3333\n",
      "4444\n",
      "5555\n",
      "6666\n"
     ]
    },
    {
     "name": "stdout",
     "output_type": "stream",
     "text": [
      "No. SKU (4 digit angka):  3333\n"
     ]
    },
    {
     "name": "stdout",
     "output_type": "stream",
     "text": [
      "No. SKU: 3333\n",
      "Nama Barang: permen\n",
      "Harga Satuan: 500.0\n",
      "Jumlah Stok: 30\n"
     ]
    },
    {
     "name": "stdout",
     "output_type": "stream",
     "text": [
      "Apakah ingin melihat stok barang lagi? (Y/N):  n\n"
     ]
    },
    {
     "name": "stdout",
     "output_type": "stream",
     "text": [
      "\n",
      "====================================\n",
      "Sistem informasi stok dan transaksi \n",
      "====================================\n",
      "          Menu Utama:\n",
      "    1. Kelola stok barang\n",
      "    2. Kelola Transaksi Konsumen\n",
      "    3. Keluar\n",
      "====================================\n",
      "    \n"
     ]
    },
    {
     "name": "stdout",
     "output_type": "stream",
     "text": [
      "Pilih menu (1/2/3):  1\n"
     ]
    },
    {
     "name": "stdout",
     "output_type": "stream",
     "text": [
      "\n",
      "====================================            \n",
      "    Sub Menu Kelola Stok Barang:\n",
      "====================================\n",
      "    1. Input Data Stok Barang\n",
      "    2. Restock Barang\n",
      "    3. Lihat Stok Barang\n",
      "    4. Kembali ke Menu Utama\n",
      "====================================\n",
      "\n"
     ]
    },
    {
     "name": "stdout",
     "output_type": "stream",
     "text": [
      "Pilih menu (1/2/3/4):  2\n"
     ]
    },
    {
     "name": "stdout",
     "output_type": "stream",
     "text": [
      "Restock Barang\n",
      "No. SKU yang sudah tersimpan di dalam program:\n",
      "1111\n",
      "2222\n",
      "3333\n",
      "4444\n",
      "5555\n",
      "6666\n"
     ]
    },
    {
     "name": "stdout",
     "output_type": "stream",
     "text": [
      "No. SKU (4 digit angka):  7777\n"
     ]
    },
    {
     "name": "stdout",
     "output_type": "stream",
     "text": [
      "No. SKU belum tersimpan di dalam BST. Mohon input data stok barang terlebih dahulu.\n"
     ]
    },
    {
     "name": "stdout",
     "output_type": "stream",
     "text": [
      "Apakah ingin restock barang lagi? (Y/N):  n\n"
     ]
    },
    {
     "name": "stdout",
     "output_type": "stream",
     "text": [
      "\n",
      "====================================\n",
      "Sistem informasi stok dan transaksi \n",
      "====================================\n",
      "          Menu Utama:\n",
      "    1. Kelola stok barang\n",
      "    2. Kelola Transaksi Konsumen\n",
      "    3. Keluar\n",
      "====================================\n",
      "    \n"
     ]
    },
    {
     "name": "stdout",
     "output_type": "stream",
     "text": [
      "Pilih menu (1/2/3):  2\n"
     ]
    },
    {
     "name": "stdout",
     "output_type": "stream",
     "text": [
      "\n",
      "====================================\n",
      "Sub Menu Kelola Transaksi Konsumen:\n",
      "====================================\n",
      "1. Input Data Transaksi Baru\n",
      "2. Lihat Data Seluruh Transaksi Konsumen\n",
      "3. Lihat Data Transaksi Berdasarkan Subtotal\n",
      "4. Kembali ke Menu Utama\n",
      "====================================\n",
      "\n"
     ]
    },
    {
     "name": "stdout",
     "output_type": "stream",
     "text": [
      "Pilih menu (1/2/3/4):  1\n",
      "Nama Konsumen:  Andi\n",
      "No. SKU barang yang dibeli (4 digit angka):  2222\n",
      "Jumlah Beli:  10\n"
     ]
    },
    {
     "name": "stdout",
     "output_type": "stream",
     "text": [
      "Data transaksi berhasil disimpan.\n"
     ]
    },
    {
     "name": "stdout",
     "output_type": "stream",
     "text": [
      "Apakah ingin input data transaksi lagi? (Y/N):  y\n",
      "No. SKU barang yang dibeli (4 digit angka):  3333\n",
      "Jumlah Beli:  30\n"
     ]
    },
    {
     "name": "stdout",
     "output_type": "stream",
     "text": [
      "Data transaksi berhasil disimpan.\n"
     ]
    },
    {
     "name": "stdout",
     "output_type": "stream",
     "text": [
      "Apakah ingin input data transaksi lagi? (Y/N):  y\n",
      "No. SKU barang yang dibeli (4 digit angka):  5555\n",
      "Jumlah Beli:  10\n"
     ]
    },
    {
     "name": "stdout",
     "output_type": "stream",
     "text": [
      "Data transaksi berhasil disimpan.\n"
     ]
    },
    {
     "name": "stdout",
     "output_type": "stream",
     "text": [
      "Apakah ingin input data transaksi lagi? (Y/N):  n\n"
     ]
    },
    {
     "name": "stdout",
     "output_type": "stream",
     "text": [
      "\n",
      "====================================\n",
      "Sub Menu Kelola Transaksi Konsumen:\n",
      "====================================\n",
      "1. Input Data Transaksi Baru\n",
      "2. Lihat Data Seluruh Transaksi Konsumen\n",
      "3. Lihat Data Transaksi Berdasarkan Subtotal\n",
      "4. Kembali ke Menu Utama\n",
      "====================================\n",
      "\n"
     ]
    },
    {
     "name": "stdout",
     "output_type": "stream",
     "text": [
      "Pilih menu (1/2/3/4):  1\n",
      "Nama Konsumen:  john\n",
      "No. SKU barang yang dibeli (4 digit angka):  1111\n",
      "Jumlah Beli:  20\n"
     ]
    },
    {
     "name": "stdout",
     "output_type": "stream",
     "text": [
      "Data transaksi berhasil disimpan.\n"
     ]
    },
    {
     "name": "stdout",
     "output_type": "stream",
     "text": [
      "Apakah ingin input data transaksi lagi? (Y/N):  y\n",
      "No. SKU barang yang dibeli (4 digit angka):  3333\n",
      "Jumlah Beli:  2\n"
     ]
    },
    {
     "name": "stdout",
     "output_type": "stream",
     "text": [
      "Jumlah stok barang tidak mencukupi.\n"
     ]
    },
    {
     "name": "stdout",
     "output_type": "stream",
     "text": [
      "Apakah ingin input data transaksi lagi? (Y/N):  y\n",
      "No. SKU barang yang dibeli (4 digit angka):  8888\n"
     ]
    },
    {
     "name": "stdout",
     "output_type": "stream",
     "text": [
      "No. SKU belum tersimpan di dalam BST. Mohon input data stok barang terlebih dahulu.\n"
     ]
    },
    {
     "name": "stdout",
     "output_type": "stream",
     "text": [
      "Apakah ingin input data transaksi lagi? (Y/N):  n\n"
     ]
    },
    {
     "name": "stdout",
     "output_type": "stream",
     "text": [
      "\n",
      "====================================\n",
      "Sub Menu Kelola Transaksi Konsumen:\n",
      "====================================\n",
      "1. Input Data Transaksi Baru\n",
      "2. Lihat Data Seluruh Transaksi Konsumen\n",
      "3. Lihat Data Transaksi Berdasarkan Subtotal\n",
      "4. Kembali ke Menu Utama\n",
      "====================================\n",
      "\n"
     ]
    },
    {
     "name": "stdout",
     "output_type": "stream",
     "text": [
      "Pilih menu (1/2/3/4):  2\n"
     ]
    },
    {
     "name": "stdout",
     "output_type": "stream",
     "text": [
      "Data Transaksi Konsumen:\n",
      "Nama Konsumen: Andi\n",
      "No. SKU: 2222\n",
      "Jumlah Beli: 10\n",
      "Subtotal: 25000.0\n",
      "\n",
      "Nama Konsumen: Andi\n",
      "No. SKU: 3333\n",
      "Jumlah Beli: 30\n",
      "Subtotal: 15000.0\n",
      "\n",
      "Nama Konsumen: Andi\n",
      "No. SKU: 5555\n",
      "Jumlah Beli: 10\n",
      "Subtotal: 40000.0\n",
      "\n",
      "Nama Konsumen: john\n",
      "No. SKU: 1111\n",
      "Jumlah Beli: 20\n",
      "Subtotal: 60000.0\n",
      "\n",
      "\n",
      "====================================\n",
      "Sub Menu Kelola Transaksi Konsumen:\n",
      "====================================\n",
      "1. Input Data Transaksi Baru\n",
      "2. Lihat Data Seluruh Transaksi Konsumen\n",
      "3. Lihat Data Transaksi Berdasarkan Subtotal\n",
      "4. Kembali ke Menu Utama\n",
      "====================================\n",
      "\n"
     ]
    },
    {
     "name": "stdout",
     "output_type": "stream",
     "text": [
      "Pilih menu (1/2/3/4):  4\n"
     ]
    },
    {
     "name": "stdout",
     "output_type": "stream",
     "text": [
      "\n",
      "====================================\n",
      "Sistem informasi stok dan transaksi \n",
      "====================================\n",
      "          Menu Utama:\n",
      "    1. Kelola stok barang\n",
      "    2. Kelola Transaksi Konsumen\n",
      "    3. Keluar\n",
      "====================================\n",
      "    \n"
     ]
    },
    {
     "name": "stdout",
     "output_type": "stream",
     "text": [
      "Pilih menu (1/2/3):  1\n"
     ]
    },
    {
     "name": "stdout",
     "output_type": "stream",
     "text": [
      "\n",
      "====================================            \n",
      "    Sub Menu Kelola Stok Barang:\n",
      "====================================\n",
      "    1. Input Data Stok Barang\n",
      "    2. Restock Barang\n",
      "    3. Lihat Stok Barang\n",
      "    4. Kembali ke Menu Utama\n",
      "====================================\n",
      "\n"
     ]
    },
    {
     "name": "stdout",
     "output_type": "stream",
     "text": [
      "Pilih menu (1/2/3/4):  3\n"
     ]
    },
    {
     "name": "stdout",
     "output_type": "stream",
     "text": [
      "Lihat Stok Barang\n",
      "1111\n",
      "2222\n",
      "3333\n",
      "4444\n",
      "5555\n",
      "6666\n"
     ]
    },
    {
     "name": "stdout",
     "output_type": "stream",
     "text": [
      "No. SKU (4 digit angka):  3333\n"
     ]
    },
    {
     "name": "stdout",
     "output_type": "stream",
     "text": [
      "No. SKU: 3333\n",
      "Nama Barang: permen\n",
      "Harga Satuan: 500.0\n",
      "Jumlah Stok: 0\n"
     ]
    },
    {
     "name": "stdout",
     "output_type": "stream",
     "text": [
      "Apakah ingin melihat stok barang lagi? (Y/N):  n\n"
     ]
    },
    {
     "name": "stdout",
     "output_type": "stream",
     "text": [
      "\n",
      "====================================\n",
      "Sistem informasi stok dan transaksi \n",
      "====================================\n",
      "          Menu Utama:\n",
      "    1. Kelola stok barang\n",
      "    2. Kelola Transaksi Konsumen\n",
      "    3. Keluar\n",
      "====================================\n",
      "    \n"
     ]
    },
    {
     "name": "stdout",
     "output_type": "stream",
     "text": [
      "Pilih menu (1/2/3):  2\n"
     ]
    },
    {
     "name": "stdout",
     "output_type": "stream",
     "text": [
      "\n",
      "====================================\n",
      "Sub Menu Kelola Transaksi Konsumen:\n",
      "====================================\n",
      "1. Input Data Transaksi Baru\n",
      "2. Lihat Data Seluruh Transaksi Konsumen\n",
      "3. Lihat Data Transaksi Berdasarkan Subtotal\n",
      "4. Kembali ke Menu Utama\n",
      "====================================\n",
      "\n"
     ]
    },
    {
     "name": "stdout",
     "output_type": "stream",
     "text": [
      "Pilih menu (1/2/3/4):  3\n"
     ]
    },
    {
     "name": "stdout",
     "output_type": "stream",
     "text": [
      "Data Transaksi Konsumen:\n",
      "Nama Konsumen: john\n",
      "No. SKU: 1111\n",
      "Jumlah Beli: 20\n",
      "Subtotal: 60000.0\n",
      "\n",
      "Nama Konsumen: Andi\n",
      "No. SKU: 5555\n",
      "Jumlah Beli: 10\n",
      "Subtotal: 40000.0\n",
      "\n",
      "Nama Konsumen: Andi\n",
      "No. SKU: 2222\n",
      "Jumlah Beli: 10\n",
      "Subtotal: 25000.0\n",
      "\n",
      "Nama Konsumen: Andi\n",
      "No. SKU: 3333\n",
      "Jumlah Beli: 30\n",
      "Subtotal: 15000.0\n",
      "\n",
      "\n",
      "====================================\n",
      "Sub Menu Kelola Transaksi Konsumen:\n",
      "====================================\n",
      "1. Input Data Transaksi Baru\n",
      "2. Lihat Data Seluruh Transaksi Konsumen\n",
      "3. Lihat Data Transaksi Berdasarkan Subtotal\n",
      "4. Kembali ke Menu Utama\n",
      "====================================\n",
      "\n"
     ]
    },
    {
     "name": "stdout",
     "output_type": "stream",
     "text": [
      "Pilih menu (1/2/3/4):  4\n"
     ]
    },
    {
     "name": "stdout",
     "output_type": "stream",
     "text": [
      "\n",
      "====================================\n",
      "Sistem informasi stok dan transaksi \n",
      "====================================\n",
      "          Menu Utama:\n",
      "    1. Kelola stok barang\n",
      "    2. Kelola Transaksi Konsumen\n",
      "    3. Keluar\n",
      "====================================\n",
      "    \n"
     ]
    },
    {
     "name": "stdout",
     "output_type": "stream",
     "text": [
      "Pilih menu (1/2/3):  3\n"
     ]
    },
    {
     "name": "stdout",
     "output_type": "stream",
     "text": [
      "Terima kasih telah menggunakan program ini.\n"
     ]
    }
   ],
   "source": [
    "class barang:\n",
    "    def __init__(self, sku, nama_barang, harga_satuan, jumlah_stok):\n",
    "        self.sku = sku\n",
    "        self.nama_barang = nama_barang\n",
    "        self.harga_satuan = harga_satuan\n",
    "        self.jumlah_stok = jumlah_stok\n",
    "        self.left = None\n",
    "        self.right = None\n",
    "\n",
    "class BST:\n",
    "    def __init__(self):\n",
    "        self.root = None\n",
    "\n",
    "    def insert(self, sku, nama_barang, harga_satuan, jumlah_stok):\n",
    "        if not self.root:\n",
    "            self.root = barang(sku, nama_barang, harga_satuan, jumlah_stok)\n",
    "        else:\n",
    "            self._insert(self.root, sku, nama_barang, harga_satuan, jumlah_stok)\n",
    "        sku_tersimpan.append(sku)  # Add the SKU to the sku_tersimpan list\n",
    "\n",
    "    def _insert(self, current_data, sku, nama_barang, harga_satuan, jumlah_stok):\n",
    "        if sku < current_data.sku:\n",
    "            if current_data.left:\n",
    "                self._insert(current_data.left, sku, nama_barang, harga_satuan, jumlah_stok)\n",
    "            else:\n",
    "                current_data.left = barang(sku, nama_barang, harga_satuan, jumlah_stok)\n",
    "        elif sku > current_data.sku:\n",
    "            if current_data.right:\n",
    "                self._insert(current_data.right, sku, nama_barang, harga_satuan, jumlah_stok)\n",
    "            else:\n",
    "                current_data.right = barang(sku, nama_barang, harga_satuan, jumlah_stok)\n",
    "    def find(self, sku):\n",
    "        if self.root:\n",
    "            return self._find(self.root, sku)\n",
    "        else:\n",
    "            return None\n",
    "\n",
    "    def _find(self, current_data, sku):\n",
    "        if sku == current_data.sku:\n",
    "            return current_data\n",
    "        elif sku < current_data.sku and current_data.left:\n",
    "            return self._find(current_data.left, sku)\n",
    "        elif sku > current_data.sku and current_data.right:\n",
    "            return self._find(current_data.right, sku)\n",
    "        else:\n",
    "            return None\n",
    "\n",
    "def lihat_data_transaksi(transaksi):\n",
    "    if len(transaksi) == 0:\n",
    "        print(\"Belum ada data transaksi konsumen.\")\n",
    "    else:\n",
    "        print(\"Data Transaksi Konsumen:\")\n",
    "        for transaction in transaksi:\n",
    "            print(\"Nama Konsumen:\", transaction[\"Nama Konsumen\"])\n",
    "            print(\"No. SKU:\", transaction[\"No. SKU\"])\n",
    "            print(\"Jumlah Beli:\", transaction[\"Jumlah Beli\"])\n",
    "            print(\"Subtotal:\", transaction[\"Subtotal\"])\n",
    "            print()\n",
    "\n",
    "def bubble_sort(transaksi):\n",
    "    n = len(transaksi)\n",
    "    for i in range(n - 1):\n",
    "        for j in range(n - i - 1):\n",
    "            if transaksi[j][\"Subtotal\"] < transaksi[j + 1][\"Subtotal\"]:\n",
    "                transaksi[j], transaksi[j + 1] = transaksi[j + 1], transaksi[j]\n",
    "\n",
    "# Main Menu\n",
    "bst = BST()\n",
    "transaksi = []\n",
    "sku_tersimpan = [] \n",
    "\n",
    "while True:\n",
    "    print(\"\"\"\n",
    "====================================\n",
    "Sistem informasi stok dan transaksi \n",
    "====================================\n",
    "          Menu Utama:\n",
    "    1. Kelola stok barang\n",
    "    2. Kelola Transaksi Konsumen\n",
    "    3. Keluar\n",
    "====================================\n",
    "    \"\"\")\n",
    "\n",
    "    menu_utama = input(\"Pilih menu (1/2/3): \")\n",
    "\n",
    "    if menu_utama == \"1\":\n",
    "        print(\"\"\"\n",
    "====================================            \n",
    "    Sub Menu Kelola Stok Barang:\n",
    "====================================\n",
    "    1. Input Data Stok Barang\n",
    "    2. Restock Barang\n",
    "    3. Lihat Stok Barang\n",
    "    4. Kembali ke Menu Utama\n",
    "====================================\n",
    "\"\"\")    \n",
    "        menu_utama = input(\"Pilih menu (1/2/3/4): \")\n",
    "        \n",
    "        if menu_utama == \"1\":\n",
    "            # Input Data Stok Barang\n",
    "            print(\"Input Data Stok Barang\")\n",
    "            while True:\n",
    "                sku = input(\"No. SKU (4 digit angka): \")\n",
    "                if len(sku) != 4 or not sku.isdigit():\n",
    "                    print(\"No. SKU harus terdiri dari 4 digit angka.\")\n",
    "                    continue\n",
    "\n",
    "                existing_item = bst.find(sku)\n",
    "                if existing_item:\n",
    "                    print(\"No. SKU sudah terdaftar.\")\n",
    "                    continue\n",
    "\n",
    "                nama_barang = input(\"Nama Barang: \")\n",
    "                harga_satuan = float(input(\"Harga Satuan: \"))\n",
    "                jumlah_stok = int(input(\"Jumlah Stok: \"))\n",
    "\n",
    "                bst.insert(sku, nama_barang, harga_satuan, jumlah_stok)\n",
    "                print(\"Data Stok Barang berhasil disimpan ke dalam program.\")\n",
    "                lanjut_input = input(\"Apakah ingin input data stok barang lagi? (Y/N): \")\n",
    "                if lanjut_input.upper() == \"N\":\n",
    "                    break\n",
    "\n",
    "        elif menu_utama == \"2\":\n",
    "            # Restock Barang\n",
    "            print(\"Restock Barang\")\n",
    "            while True:\n",
    "                # Menampilkan sku yang sudah tersimpan\n",
    "                print(\"No. SKU yang sudah tersimpan di dalam program:\")\n",
    "                for sku in sku_tersimpan:\n",
    "                    print(sku)\n",
    "                sku = input(\"No. SKU (4 digit angka): \")\n",
    "                if len(sku) != 4 or not sku.isdigit():\n",
    "                    print(\"No. SKU harus terdiri dari 4 digit angka.\")\n",
    "                    continue\n",
    "\n",
    "                existing_item = bst.find(sku)\n",
    "                if existing_item:\n",
    "                    jumlah_baru = int(input(\"Jumlah Stok Baru: \"))\n",
    "                    total_stok = existing_item.jumlah_stok + jumlah_baru\n",
    "                    existing_item.jumlah_stok = total_stok\n",
    "                    print(\"Stok barang dengan No. SKU\", sku, \"telah diperbarui.\")\n",
    "                else:\n",
    "                    print(\"No. SKU belum tersimpan di dalam BST. Mohon input data stok barang terlebih dahulu.\")\n",
    "                \n",
    "                lanjut_input = input(\"Apakah ingin restock barang lagi? (Y/N): \")\n",
    "                if lanjut_input.upper() == \"N\":\n",
    "                    break\n",
    "                        \n",
    "        elif menu_utama == \"3\":\n",
    "            print(\"Lihat Stok Barang\")\n",
    "            while True:\n",
    "                for sku in sku_tersimpan:\n",
    "                    print(sku)\n",
    "                sku = input(\"No. SKU (4 digit angka): \")\n",
    "                if len(sku) != 4 or not sku.isdigit():\n",
    "                    print(\"No. SKU harus terdiri dari 4 digit angka.\")\n",
    "                    continue\n",
    "\n",
    "                existing_item = bst.find(sku)\n",
    "                if existing_item:\n",
    "                    print(\"No. SKU:\", existing_item.sku)\n",
    "                    print(\"Nama Barang:\", existing_item.nama_barang)\n",
    "                    print(\"Harga Satuan:\", existing_item.harga_satuan)\n",
    "                    print(\"Jumlah Stok:\", existing_item.jumlah_stok)\n",
    "                else:\n",
    "                    print(\"No. SKU belum tersimpan di dalam BST. Mohon input data stok barang terlebih dahulu.\")\n",
    "                \n",
    "                lanjut_input = input(\"Apakah ingin melihat stok barang lagi? (Y/N): \")\n",
    "                if lanjut_input.upper() == \"N\":\n",
    "                    break\n",
    "        elif menu_utama == \"4\":\n",
    "            continue\n",
    "\n",
    "    elif menu_utama == \"2\":\n",
    "        # Sub Menu Kelola Transaksi Konsumen\n",
    "        while True:\n",
    "            print(\"\"\"\n",
    "====================================\n",
    "Sub Menu Kelola Transaksi Konsumen:\n",
    "====================================\n",
    "1. Input Data Transaksi Baru\n",
    "2. Lihat Data Seluruh Transaksi Konsumen\n",
    "3. Lihat Data Transaksi Berdasarkan Subtotal\n",
    "4. Kembali ke Menu Utama\n",
    "====================================\n",
    "\"\"\")\n",
    "\n",
    "            menu_transaksi = input(\"Pilih menu (1/2/3/4): \")\n",
    "\n",
    "            if menu_transaksi == \"1\":\n",
    "                # Input Data Transaksi Baru\n",
    "                nama_konsumen = input(\"Nama Konsumen: \")\n",
    "\n",
    "                while True:\n",
    "                    sku = input(\"No. SKU barang yang dibeli (4 digit angka): \")\n",
    "                    if len(sku) != 4 or not sku.isdigit():\n",
    "                        print(\"No. SKU harus terdiri dari 4 digit angka.\")\n",
    "                        continue\n",
    "\n",
    "                    existing_item = bst.find(sku)\n",
    "                    if existing_item:\n",
    "                        jumlah_beli = int(input(\"Jumlah Beli: \"))\n",
    "\n",
    "                        if jumlah_beli <= existing_item.jumlah_stok:\n",
    "                            subtotal = jumlah_beli * existing_item.harga_satuan\n",
    "\n",
    "                            transaksi.append({\n",
    "                                \"Nama Konsumen\": nama_konsumen,\n",
    "                                \"No. SKU\": sku,\n",
    "                                \"Jumlah Beli\": jumlah_beli,\n",
    "                                \"Subtotal\": subtotal\n",
    "                            })\n",
    "\n",
    "                            existing_item.jumlah_stok -= jumlah_beli\n",
    "                            print(\"Data transaksi berhasil disimpan.\")\n",
    "                        else:\n",
    "                            print(\"Jumlah stok barang tidak mencukupi.\")\n",
    "                    else:\n",
    "                        print(\"No. SKU belum tersimpan di dalam BST. Mohon input data stok barang terlebih dahulu.\")\n",
    "                    \n",
    "                    lanjut_input = input(\"Apakah ingin input data transaksi lagi? (Y/N): \")\n",
    "                    if lanjut_input.upper() == \"N\":\n",
    "                        break\n",
    "\n",
    "            elif menu_transaksi == \"2\":\n",
    "                # Lihat Data Seluruh Transaksi Konsumen\n",
    "                lihat_data_transaksi(transaksi)\n",
    "\n",
    "            elif menu_transaksi == \"3\":\n",
    "                # Lihat Data Transaksi Berdasarkan Subtotal\n",
    "                if len(transaksi) == 0:\n",
    "                    print(\"Belum ada data transaksi konsumen.\")\n",
    "                else:\n",
    "                    bubble_sort(transaksi)\n",
    "                    lihat_data_transaksi(transaksi)\n",
    "\n",
    "            elif menu_transaksi == \"4\":\n",
    "                break\n",
    "\n",
    "    elif menu_utama == \"3\":\n",
    "        print(\"Terima kasih telah menggunakan program ini.\")\n",
    "        break\n",
    "\n",
    "    else:\n",
    "        print(\"Pilihan menu tidak valid. Silakan pilih menu yang sesuai.\")\n"
   ]
  },
  {
   "cell_type": "code",
   "execution_count": null,
   "id": "f15063d2-bf25-4e92-820f-ab4c2e3ed788",
   "metadata": {},
   "outputs": [],
   "source": []
  }
 ],
 "metadata": {
  "kernelspec": {
   "display_name": "Python 3",
   "language": "python",
   "name": "python3"
  },
  "language_info": {
   "codemirror_mode": {
    "name": "ipython",
    "version": 3
   },
   "file_extension": ".py",
   "mimetype": "text/x-python",
   "name": "python",
   "nbconvert_exporter": "python",
   "pygments_lexer": "ipython3",
   "version": "3.11.4"
  },
  "vscode": {
   "interpreter": {
    "hash": "50057f67eeb47946452afa3dee84239cc8a275c988b4643f4217c53958df9ca7"
   }
  }
 },
 "nbformat": 4,
 "nbformat_minor": 5
}
